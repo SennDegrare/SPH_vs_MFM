{
 "cells": [
  {
   "cell_type": "code",
   "execution_count": 1,
   "id": "38d7820c",
   "metadata": {},
   "outputs": [
    {
     "name": "stderr",
     "output_type": "stream",
     "text": [
      "/users/labnet/st2/sohomg/phantom/virtual-env/lib/python3.8/site-packages/sarracen/kernels/cubic_spline.py:15: NumbaDeprecationWarning: The 'nopython' keyword argument was not supplied to the 'numba.jit' decorator. The implicit default value for this argument is currently False, but it will be changed to True in Numba 0.59.0. See https://numba.readthedocs.io/en/stable/reference/deprecation.html#deprecation-of-object-mode-fall-back-behaviour-when-using-jit for details.\n",
      "  @jit(fastmath=True)\n",
      "/users/labnet/st2/sohomg/phantom/virtual-env/lib/python3.8/site-packages/sarracen/kernels/quartic_spline.py:15: NumbaDeprecationWarning: The 'nopython' keyword argument was not supplied to the 'numba.jit' decorator. The implicit default value for this argument is currently False, but it will be changed to True in Numba 0.59.0. See https://numba.readthedocs.io/en/stable/reference/deprecation.html#deprecation-of-object-mode-fall-back-behaviour-when-using-jit for details.\n",
      "  @jit(fastmath=True)\n",
      "/users/labnet/st2/sohomg/phantom/virtual-env/lib/python3.8/site-packages/sarracen/kernels/quintic_spline.py:15: NumbaDeprecationWarning: The 'nopython' keyword argument was not supplied to the 'numba.jit' decorator. The implicit default value for this argument is currently False, but it will be changed to True in Numba 0.59.0. See https://numba.readthedocs.io/en/stable/reference/deprecation.html#deprecation-of-object-mode-fall-back-behaviour-when-using-jit for details.\n",
      "  @jit(fastmath=True)\n"
     ]
    }
   ],
   "source": [
    "import matplotlib.pyplot as plt\n",
    "import numpy as np\n",
    "import glob as g\n",
    "import sarracen"
   ]
  },
  {
   "cell_type": "code",
   "execution_count": 2,
   "id": "ed532179",
   "metadata": {},
   "outputs": [
    {
     "name": "stdout",
     "output_type": "stream",
     "text": [
      "['sedov_00000', 'sedov_00001', 'sedov_00002', 'sedov_00003', 'sedov_00004', 'sedov_00005', 'sedov_00006', 'sedov_00007', 'sedov_00008', 'sedov_00009', 'sedov_00010']\n",
      "sedov_00001\n"
     ]
    }
   ],
   "source": [
    "file = sorted(g.glob('sedov_*'))\n",
    "print(file)\n",
    "print(file[1])"
   ]
  },
  {
   "cell_type": "code",
   "execution_count": 3,
   "id": "95e4b61a",
   "metadata": {},
   "outputs": [],
   "source": [
    "# for i in file:\n",
    "#     sdf = sarracen.read_phantom(i)\n",
    "#     sdf.calc_density()\n",
    "#     r = np.sqrt((sdf['x']-0.5)**2+(sdf['y']-0.5)**2+(sdf['z']-0.5)**2)\n",
    "#     rho = sdf['rho']\n",
    "#     fig, ax = plt.subplots()\n",
    "#     ax.scatter(r,rho)\n",
    "#     ax.set_xlabel('r')\n",
    "#     ax.set_ylabel('density')\n",
    "#     ax.set_title('Density vs Radial Distance')\n",
    "#     fig.savefig(i+'.png')\n",
    "#     plt.close()"
   ]
  },
  {
   "cell_type": "code",
   "execution_count": 5,
   "id": "2b6d6c6a",
   "metadata": {},
   "outputs": [],
   "source": [
    "sdf = sarracen.read_phantom(file[6])\n",
    "sdf.calc_density()\n",
    "\n",
    "\n",
    "r = np.sqrt((sdf['x']-0.5)**2+(sdf['y']-0.5)**2+(sdf['z']-0.5)**2)\n",
    "rho = sdf['rho']\n",
    "x = sdf['x']\n",
    "y=sdf['y']\n",
    "z=sdf['z']\n",
    "h=sdf['h']\n",
    "\n",
    "fig, ax = plt.subplots()\n",
    "sdf.render('rho')\n",
    "#ax.scatter(r,rho, s=1.0)\n",
    "ax.set_xlabel('r')\n",
    "ax.set_ylabel('density')\n",
    "ax.set_title('Density vs Radial Distance')\n",
    "fig.savefig('coord.png')\n",
    "plt.close()"
   ]
  },
  {
   "cell_type": "code",
   "execution_count": 6,
   "id": "0df3e676",
   "metadata": {},
   "outputs": [
    {
     "name": "stdout",
     "output_type": "stream",
     "text": [
      "0.5078125\n"
     ]
    }
   ],
   "source": [
    "print(np.mean(sdf['x']))\n"
   ]
  },
  {
   "cell_type": "code",
   "execution_count": 7,
   "id": "2ccc1abc",
   "metadata": {},
   "outputs": [
    {
     "data": {
      "text/html": [
       "<div>\n",
       "<style scoped>\n",
       "    .dataframe tbody tr th:only-of-type {\n",
       "        vertical-align: middle;\n",
       "    }\n",
       "\n",
       "    .dataframe tbody tr th {\n",
       "        vertical-align: top;\n",
       "    }\n",
       "\n",
       "    .dataframe thead th {\n",
       "        text-align: right;\n",
       "    }\n",
       "</style>\n",
       "<table border=\"1\" class=\"dataframe\">\n",
       "  <thead>\n",
       "    <tr style=\"text-align: right;\">\n",
       "      <th></th>\n",
       "      <th>x</th>\n",
       "      <th>y</th>\n",
       "      <th>z</th>\n",
       "      <th>h</th>\n",
       "      <th>rho</th>\n",
       "    </tr>\n",
       "  </thead>\n",
       "  <tbody>\n",
       "    <tr>\n",
       "      <th>count</th>\n",
       "      <td>262144.000000</td>\n",
       "      <td>262144.000000</td>\n",
       "      <td>262144.000000</td>\n",
       "      <td>262144.000000</td>\n",
       "      <td>262144.000000</td>\n",
       "    </tr>\n",
       "    <tr>\n",
       "      <th>mean</th>\n",
       "      <td>0.507812</td>\n",
       "      <td>0.507812</td>\n",
       "      <td>0.507812</td>\n",
       "      <td>0.018650</td>\n",
       "      <td>1.033496</td>\n",
       "    </tr>\n",
       "    <tr>\n",
       "      <th>std</th>\n",
       "      <td>0.289049</td>\n",
       "      <td>0.289049</td>\n",
       "      <td>0.289049</td>\n",
       "      <td>0.001075</td>\n",
       "      <td>0.178959</td>\n",
       "    </tr>\n",
       "    <tr>\n",
       "      <th>min</th>\n",
       "      <td>0.015625</td>\n",
       "      <td>0.015625</td>\n",
       "      <td>0.015625</td>\n",
       "      <td>0.014756</td>\n",
       "      <td>0.085641</td>\n",
       "    </tr>\n",
       "    <tr>\n",
       "      <th>25%</th>\n",
       "      <td>0.255181</td>\n",
       "      <td>0.255181</td>\n",
       "      <td>0.255181</td>\n",
       "      <td>0.018745</td>\n",
       "      <td>1.000825</td>\n",
       "    </tr>\n",
       "    <tr>\n",
       "      <th>50%</th>\n",
       "      <td>0.507812</td>\n",
       "      <td>0.507812</td>\n",
       "      <td>0.507812</td>\n",
       "      <td>0.018745</td>\n",
       "      <td>1.000825</td>\n",
       "    </tr>\n",
       "    <tr>\n",
       "      <th>75%</th>\n",
       "      <td>0.755785</td>\n",
       "      <td>0.755785</td>\n",
       "      <td>0.755785</td>\n",
       "      <td>0.018745</td>\n",
       "      <td>1.000825</td>\n",
       "    </tr>\n",
       "    <tr>\n",
       "      <th>max</th>\n",
       "      <td>1.000000</td>\n",
       "      <td>1.000000</td>\n",
       "      <td>1.000000</td>\n",
       "      <td>0.042538</td>\n",
       "      <td>2.051499</td>\n",
       "    </tr>\n",
       "  </tbody>\n",
       "</table>\n",
       "</div>"
      ],
      "text/plain": [
       "                   x              y              z              h   \n",
       "count  262144.000000  262144.000000  262144.000000  262144.000000  \\\n",
       "mean        0.507812       0.507812       0.507812       0.018650   \n",
       "std         0.289049       0.289049       0.289049       0.001075   \n",
       "min         0.015625       0.015625       0.015625       0.014756   \n",
       "25%         0.255181       0.255181       0.255181       0.018745   \n",
       "50%         0.507812       0.507812       0.507812       0.018745   \n",
       "75%         0.755785       0.755785       0.755785       0.018745   \n",
       "max         1.000000       1.000000       1.000000       0.042538   \n",
       "\n",
       "                 rho  \n",
       "count  262144.000000  \n",
       "mean        1.033496  \n",
       "std         0.178959  \n",
       "min         0.085641  \n",
       "25%         1.000825  \n",
       "50%         1.000825  \n",
       "75%         1.000825  \n",
       "max         2.051499  "
      ]
     },
     "execution_count": 7,
     "metadata": {},
     "output_type": "execute_result"
    }
   ],
   "source": [
    "sdf.describe()"
   ]
  },
  {
   "cell_type": "code",
   "execution_count": null,
   "id": "36951b97",
   "metadata": {},
   "outputs": [],
   "source": []
  }
 ],
 "metadata": {
  "kernelspec": {
   "display_name": "Python 3 (ipykernel)",
   "language": "python",
   "name": "python3"
  },
  "language_info": {
   "codemirror_mode": {
    "name": "ipython",
    "version": 3
   },
   "file_extension": ".py",
   "mimetype": "text/x-python",
   "name": "python",
   "nbconvert_exporter": "python",
   "pygments_lexer": "ipython3",
   "version": "3.8.10"
  }
 },
 "nbformat": 4,
 "nbformat_minor": 5
}
